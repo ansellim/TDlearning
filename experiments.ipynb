{
 "cells": [
  {
   "cell_type": "code",
   "execution_count": 1,
   "metadata": {},
   "outputs": [],
   "source": [
    "######## CS7642 Project by Ansel Lim ########"
   ]
  },
  {
   "cell_type": "code",
   "execution_count": 40,
   "metadata": {},
   "outputs": [],
   "source": [
    "#################################################################\n",
    "##########################PART A#################################\n",
    "#################################################################\n",
    "############## EXPERIMENTS 1 AND 2, WITH REMOVAL OF PROBABILITY PREDICTIONS THAT ARE NEGATIVE OR LARGER THAN UNITY ##############\n",
    "#################################################################\n",
    "#################################################################\n",
    "#################################################################"
   ]
  },
  {
   "cell_type": "code",
   "execution_count": 2,
   "metadata": {},
   "outputs": [],
   "source": [
    "######## Helper functions ########"
   ]
  },
  {
   "cell_type": "code",
   "execution_count": 3,
   "metadata": {
    "id": "TSt0nPJsudx9"
   },
   "outputs": [],
   "source": [
    "# import time\n",
    "import numpy as np\n",
    "import random\n",
    "import matplotlib.pyplot as plt"
   ]
  },
  {
   "cell_type": "code",
   "execution_count": 4,
   "metadata": {
    "colab": {
     "base_uri": "https://localhost:8080/"
    },
    "id": "5SrNHIcrudyC",
    "outputId": "929aa643-a19c-45bc-88d9-3605bd35e110"
   },
   "outputs": [
    {
     "name": "stdout",
     "output_type": "stream",
     "text": [
      "seed: 1645345947\n"
     ]
    }
   ],
   "source": [
    "# Specify random seed\n",
    "# seed = int(time.time())\n",
    "seed = 1645345947\n",
    "print(\"seed:\",seed)\n",
    "random.seed(seed)\n",
    "np.random.seed(seed)"
   ]
  },
  {
   "cell_type": "code",
   "execution_count": 5,
   "metadata": {
    "id": "N-jKqPU0udyC"
   },
   "outputs": [],
   "source": [
    "# Global variables\n",
    "states = [(1,0,0,0,0),(0,1,0,0,0),(0,0,1,0,0),(0,0,0,1,0),(0,0,0,0,1)]  # States B,C,D,E,F\n",
    "destinations = [None,                                                   # Possible destinations from each state\n",
    "                [states[0],states[2]],\n",
    "                [states[1],states[3]],\n",
    "                [states[2],states[4]],\n",
    "                None]\n",
    "destinations = {states[i]:destinations[i] for i in range(5)}            # Dictionary of state tuple to list of possible state destinations from that state tuple\n",
    "mapping = {states[i]:i for i in range(len(states))}                     # state tuple to index mapping (in `states` array)\n",
    "true_prob = np.array([ x/6 for x in range(7)  ])[1:-1]                  # Ideal predictions (true probabilities of right-sided termination) for states B,C,D,E,F"
   ]
  },
  {
   "cell_type": "code",
   "execution_count": 6,
   "metadata": {
    "id": "dcxSIWAtudyD"
   },
   "outputs": [],
   "source": [
    "# Prediction function - linear in weight vector and state vector.\n",
    "def P(w: np.array, x_t: tuple) -> float:\n",
    "  '''\n",
    "  Given a weight vector w and a state tuple x_t, return the prediction P_t = (transpose of w) multiplied by (x_t), i.e. the dot product of w and x_t.\n",
    "  Input: weight vector w, state tuple x_t\n",
    "  Returns: Prediction P_t = w . x_t\n",
    "  '''\n",
    "  if x_t == 0:      # P_(m+1) = z = 1\n",
    "    return 0\n",
    "  elif x_t == 1:    # P_(m+1) = z = 1\n",
    "    return 1\n",
    "  x_t = np.array(list(x_t))\n",
    "  return np.dot(w,x_t)"
   ]
  },
  {
   "cell_type": "code",
   "execution_count": 7,
   "metadata": {
    "id": "r7YrYcmPudyD"
   },
   "outputs": [],
   "source": [
    "# Root mean squared error function\n",
    "def RMSError(pred):\n",
    "  '''\n",
    "  Calculates root mean squared error using input prediction vector & vector of true probabilities (ideal predictions).\n",
    "  Input: prediction vector (length 5)\n",
    "  '''\n",
    "  global true_prob\n",
    "\n",
    "  return np.sqrt(((pred - true_prob) ** 2).mean())"
   ]
  },
  {
   "cell_type": "code",
   "execution_count": 8,
   "metadata": {
    "id": "RN9aDjpPudyC"
   },
   "outputs": [],
   "source": [
    "# Function for generating random sequences according to the rules of the dynamical system\n",
    "def sequence_generator(num_sequences: int) -> list:\n",
    "  '''\n",
    "  Generate sequences according to the dynamical system\n",
    "  Input: num_sequences is the number of sequences you want to generate\n",
    "  Returns: A list of sequences. Each sequence is a list of tuples corresponding to the non-terminal states; the last element of each sequence is a terminal state which is either 0 (state A) or 1 (state G).\n",
    "  '''\n",
    "  global states, destinations\n",
    "  sequences = []                                                        # Store sequences in the `sequences` array\n",
    "  for _ in range(num_sequences):\n",
    "    current_state = states[2]                                           # Start from state D\n",
    "    seq = [current_state]                                               # Sequence only has state D at the start\n",
    "    possible_next_states = destinations[current_state]                  # Check possible next states\n",
    "    while possible_next_states:                                         # Continue exploration until termination state imminent\n",
    "      random_index = random.randint(0,len(possible_next_states)-1)      # Pick random destination\n",
    "      next_state = possible_next_states[random_index]                   # Select a random destination\n",
    "      seq.append(next_state)                                            # Add the destination to the sequence\n",
    "      current_state=next_state\n",
    "      possible_next_states = destinations[current_state]\n",
    "    if seq[-1]==states[0]:                                              # Check if last state is state B, then we need to append state A (0)\n",
    "      seq.append(0)                                                     # Augment sequence of states with state A\n",
    "    else:                                                               # Check if last state is state F, then we need to append state G (1)\n",
    "      seq.append(1)                                                     # Augment sequence of states with state G\n",
    "    sequences.append(seq)                                               # Store sequence in sequences\n",
    "  return sequences                                                      # Return an array `sequences` containing multiple sequences"
   ]
  },
  {
   "cell_type": "code",
   "execution_count": 9,
   "metadata": {
    "id": "b5SAA6D8udyD"
   },
   "outputs": [],
   "source": [
    "# Create training sets (100 training sets, each containing 10 sequences)\n",
    "training_sets = [sequence_generator(10) for _ in range(100)]"
   ]
  },
  {
   "cell_type": "code",
   "execution_count": 10,
   "metadata": {
    "id": "nPuhZcSMwELE"
   },
   "outputs": [],
   "source": [
    "################################\n",
    "################################\n",
    "######### Experiment 1 #########\n",
    "################################\n",
    "################################"
   ]
  },
  {
   "cell_type": "code",
   "execution_count": 11,
   "metadata": {
    "id": "_d-i9F4UwFLW"
   },
   "outputs": [],
   "source": [
    "# An exception class to be raised when there is \"nonconvergence\" beyond a certain number of presentations of the training set\n",
    "class NonconvergenceException(BaseException):\n",
    "  def __init__(self):\n",
    "    super().__init__()"
   ]
  },
  {
   "cell_type": "code",
   "execution_count": 12,
   "metadata": {
    "id": "U4pzzGE8wFLW"
   },
   "outputs": [],
   "source": [
    "def TD_Lambda_Expt1(alpha=0.02,lambda_=0.2,verbose=False,max_presentations = 1000):\n",
    "  \n",
    "  '''\n",
    "  Sutton's experiment 1, where there are multiple presentations of training set until convergence, and weight vector is only updated at the end of each training set presentation\n",
    "  \n",
    "  Inputs:\n",
    "  1. alpha: Learning rate\n",
    "  2. lambda: discount factor\n",
    "  3. verbose: whether you want printouts of the various intermediate variables (for debugging)\n",
    "  4. max_presentations: a limit on the number of presentations a training set can be presented before a NonconvergenceException is raised\n",
    "  '''\n",
    "\n",
    "  global training_sets \n",
    "\n",
    "  predictions = []                    # Array of predictions across training sets\n",
    "  errors = []                         # Array of errors across training sets\n",
    "  w_vectors = []                      # Array of weight vectors across training sets\n",
    "\n",
    "  for training_set in training_sets:  # For each training set in the collection of 100 training sets\n",
    "\n",
    "    # Initialize w at the start of each training set\n",
    "    w = np.random.uniform(0,1,5)      # Final weight vector is independent of the initialization\n",
    "\n",
    "    is_not_converged = True\n",
    "    num_presentations = 0             \n",
    "\n",
    "    while is_not_converged:           # Present each training set multiple times until convergence of weight vector\n",
    "    \n",
    "      # To prevent issues with running time if there is nonconvergence due to large alpha.\n",
    "      if num_presentations > max_presentations:\n",
    "        break\n",
    "\n",
    "      # We will accumulate the delta w_t's across sequences in a presentation of a training set\n",
    "      sum_of_delta_wt = np.zeros(5)   # Initialize accumulator of delta w_t's to zero at the start of each presentation\n",
    "\n",
    "      for seq in training_set:        # For each of the 10 sequences in the training set\n",
    "\n",
    "        if verbose:\n",
    "          print(\"****SEQUENCE******\",seq)\n",
    "          print(\"Current value of w:\",w)\n",
    "\n",
    "        for t in range(len(seq)-1):   # For each of the m states in the sequence\n",
    "\n",
    "          if verbose:\n",
    "            print(\"---State---\",seq[t])\n",
    "\n",
    "          # Calculate weighted sum of gradients\n",
    "          gradients = ([list(x) for x in seq[:t+1]])\n",
    "          lambdas_ = [lambda_**exponent for exponent in range(0,t+1)]\n",
    "          lambdas_.reverse()\n",
    "          weighted_gradients = [np.array(gradients[i]) * lambdas_[i] for i in range(len(gradients))]\n",
    "          weighted_sum_of_gradients = np.array(weighted_gradients).sum(axis=0)\n",
    "\n",
    "          delta_wt = alpha * (P(w,seq[t+1]) - P(w,seq[t])) * weighted_sum_of_gradients\n",
    "          sum_of_delta_wt = np.add(sum_of_delta_wt, delta_wt)\n",
    "\n",
    "          if verbose:\n",
    "            print(\"Gradients (x_t),Lambdas (exponential weighting)\",gradients,lambdas_)\n",
    "            print(\"Unweighted sum of gradients (sum of x_t) =\",np.array(gradients).sum(axis=0),\"was calculated from\",seq[:t+1])\n",
    "            print(\"Weighted sum of gradients (weighted sum of x_t)\",weighted_sum_of_gradients)\n",
    "            print(\"Need to multiply [weighted] sum of gradients by alpha multiplied by difference between P calculated from {} (t+1) and P calculated from {} (t)\".format(seq[t+1],seq[t]))\n",
    "            print(\"P(t+1) = {}, P(t) = {}\".format(P(w,seq[t+1]),P(w,seq[t]) ))\n",
    "            print(\"Increment delta(w_t) = alpha * (difference between P) * (weighted sum of gradients) = \",delta_wt)\n",
    "            print(\"Sum of delta_wt\",sum_of_delta_wt)\n",
    "\n",
    "      # Update the weight vector only after each complete presentation of the training set\n",
    "      w_new = np.add(w, sum_of_delta_wt)\n",
    "      if np.isclose(w_new,w).all():\n",
    "        is_not_converged = False\n",
    "        w = w_new\n",
    "      else:\n",
    "        num_presentations += 1\n",
    "        w = w_new\n",
    "    \n",
    "    if is_not_converged:\n",
    "      raise NonconvergenceException\n",
    "    \n",
    "    # Save the weights at the end of each training set\n",
    "    w_vectors.append(w)\n",
    "\n",
    "    # Also save the predictions at the end of each training set\n",
    "    pred = np.array([P(w,states[i]) for i in range(len(states))])\n",
    "    pred = np.maximum(np.minimum(pred,np.ones_like(pred)),np.zeros_like(pred))\n",
    "    error = RMSError(pred = np.array(pred))\n",
    "    predictions.append(pred)\n",
    "\n",
    "    # Save the error of that training set\n",
    "    errors.append(error)\n",
    "\n",
    "  return np.array(errors).mean()"
   ]
  },
  {
   "cell_type": "code",
   "execution_count": 13,
   "metadata": {},
   "outputs": [
    {
     "data": {
      "text/plain": [
       "0.16003655851291979"
      ]
     },
     "execution_count": 13,
     "metadata": {},
     "output_type": "execute_result"
    }
   ],
   "source": [
    "# Try out Experimnent 1 with default settings of alpha and lambda\n",
    "TD_Lambda_Expt1(alpha=0.02,lambda_=0.2,\n",
    "                # verbose=True, \n",
    "                max_presentations = 1000)"
   ]
  },
  {
   "cell_type": "code",
   "execution_count": 14,
   "metadata": {
    "id": "BZz2oWihwFLW"
   },
   "outputs": [],
   "source": [
    "def optimize_TD_Lambda_Expt1(lambda_,alpha_min,alpha_max,num_alphas,max_presentations):\n",
    "  '''\n",
    "  A function for optimizing TD(lambda) under Experiment 1 regime, with a grid search for the best alpha which gives the best RMSE error.\n",
    "  The user has to input the minimum alpha, max alpha, and the number of alphas he wants to search over.\n",
    "  The user is also able to enter the number of max presentations that will be allowed.\n",
    "  '''\n",
    "  best_alpha = None\n",
    "  best_error = np.inf\n",
    "  for alpha in np.linspace(alpha_min,alpha_max,num_alphas): \n",
    "    try:\n",
    "      RMSE =  TD_Lambda_Expt1(lambda_ = lambda_, alpha=alpha, max_presentations = max_presentations)\n",
    "    except NonconvergenceException:\n",
    "      continue\n",
    "    if RMSE < best_error:\n",
    "      best_error = RMSE\n",
    "      best_alpha = alpha\n",
    "  return best_error,best_alpha"
   ]
  },
  {
   "cell_type": "code",
   "execution_count": 15,
   "metadata": {
    "colab": {
     "base_uri": "https://localhost:8080/",
     "height": 381
    },
    "id": "KnOzinMXwFLW",
    "outputId": "8791ce77-6d5c-4311-b14c-90a15558cc42",
    "scrolled": true
   },
   "outputs": [
    {
     "name": "stderr",
     "output_type": "stream",
     "text": [
      "C:\\Users\\ansel\\AppData\\Local\\Temp/ipykernel_1384/2607060184.py:55: RuntimeWarning: overflow encountered in add\n",
      "  sum_of_delta_wt = np.add(sum_of_delta_wt, delta_wt)\n",
      "C:\\Users\\ansel\\AppData\\Local\\Temp/ipykernel_1384/2607060184.py:54: RuntimeWarning: overflow encountered in double_scalars\n",
      "  delta_wt = alpha * (P(w,seq[t+1]) - P(w,seq[t])) * weighted_sum_of_gradients\n",
      "C:\\Users\\ansel\\AppData\\Local\\Temp/ipykernel_1384/2607060184.py:54: RuntimeWarning: invalid value encountered in multiply\n",
      "  delta_wt = alpha * (P(w,seq[t+1]) - P(w,seq[t])) * weighted_sum_of_gradients\n"
     ]
    },
    {
     "name": "stdout",
     "output_type": "stream",
     "text": [
      "[0.0, 0.15964493512006764]\n"
     ]
    },
    {
     "name": "stderr",
     "output_type": "stream",
     "text": [
      "C:\\Users\\ansel\\AppData\\Local\\Temp/ipykernel_1384/2607060184.py:55: RuntimeWarning: invalid value encountered in add\n",
      "  sum_of_delta_wt = np.add(sum_of_delta_wt, delta_wt)\n"
     ]
    },
    {
     "name": "stdout",
     "output_type": "stream",
     "text": [
      "[0.1, 0.15975551958864698]\n",
      "[0.2, 0.16003543574159707]\n",
      "[0.30000000000000004, 0.16050167647280744]\n",
      "[0.4, 0.1611953981213126]\n",
      "[0.5, 0.16219697326329086]\n",
      "[0.6000000000000001, 0.16363609708337198]\n",
      "[0.7000000000000001, 0.16573496078334615]\n",
      "[0.8, 0.16885546668862886]\n",
      "[0.9, 0.17359342575282372]\n",
      "[1.0, 0.18096167181330652]\n"
     ]
    }
   ],
   "source": [
    "# Generate datapoints for Figure 3, Expt 1\n",
    "coords_Expt1 = []\n",
    "for lambda_ in np.linspace(0,1,11):\n",
    "  best_error,_ = optimize_TD_Lambda_Expt1(lambda_ = lambda_,alpha_min = 0, alpha_max = 0.3, num_alphas = 30,max_presentations = 1000)\n",
    "  datapoint = [lambda_,best_error]\n",
    "  print(datapoint)\n",
    "  coords_Expt1.append(datapoint)"
   ]
  },
  {
   "cell_type": "code",
   "execution_count": 16,
   "metadata": {
    "id": "8cxeo28hwFLW",
    "scrolled": true
   },
   "outputs": [
    {
     "data": {
      "image/png": "[encoded data removed]",
      "text/plain": [
       "<Figure size 432x288 with 1 Axes>"
      ]
     },
     "metadata": {
      "needs_background": "light"
     },
     "output_type": "display_data"
    }
   ],
   "source": [
    "# Plot data points for Figure 3, Expt 1\n",
    "plt.scatter(x = [elem[0] for elem in coords_Expt1],\n",
    "            y = [elem[1] for elem in coords_Expt1])\n",
    "plt.xlabel('lambda')\n",
    "plt.ylabel('error')\n",
    "plt.title('Error with best learning rate (averaged over 100 training sets)\\nunder repeated presentations paradigm (Experiment 1)')\n",
    "plt.savefig('./project1_expt1.png')\n",
    "plt.show()"
   ]
  },
  {
   "cell_type": "code",
   "execution_count": 17,
   "metadata": {
    "id": "5ywOYNqfwPXI"
   },
   "outputs": [],
   "source": [
    "####### Experiment 2 - Version 1 ####### "
   ]
  },
  {
   "cell_type": "code",
   "execution_count": 18,
   "metadata": {
    "id": "i5wrcPZ9wQWX"
   },
   "outputs": [],
   "source": [
    "def TD_Lambda_Expt2(alpha=0.02,lambda_=0.2,verbose=False):\n",
    "\n",
    "  '''\n",
    "  Sutton's experiment 2. Single presentation of each training set. Weight vector updates after EACH sequence in a training set.\n",
    "  \n",
    "  Version 1: the sum of delta (w_t) persists across a training set and it is not reset to zero.\n",
    "  \n",
    "  Inputs:\n",
    "  1. alpha: Learning rate\n",
    "  2. lambda: discount factor\n",
    "  3. verbose: whether you want printouts of the various intermediate variables (for debugging)\n",
    "  '''\n",
    "    \n",
    "  global training_sets\n",
    "\n",
    "  predictions = []\n",
    "  w_vectors = []\n",
    "  errors = []\n",
    "\n",
    "  for training_set in training_sets:      # Present training set only ONCE\n",
    "\n",
    "    # Sum of delta wt - accumulates the delta w_t in each state of sequence in training set\n",
    "    sum_of_delta_wt = np.zeros(5)\n",
    "\n",
    "    # Initialize w at the start of each training set\n",
    "    # All components of weight vector initially set to 0.5, to avoid bias either toward right/left-side terminations\n",
    "    w = np.array([0.5] * 5)\n",
    "\n",
    "    for seq in training_set:\n",
    "\n",
    "      if verbose:\n",
    "        print(\"****SEQUENCE******\",seq)\n",
    "        print(\"Current value of w:\",w)\n",
    "\n",
    "      for t in range(len(seq)-1):\n",
    "\n",
    "        if verbose:\n",
    "          print(\"---State---\",seq[t])\n",
    "\n",
    "        gradients = ([list(x) for x in  seq[:t+1]])\n",
    "        lambdas_ = [lambda_**exponent for exponent in range(0,t+1)]\n",
    "        lambdas_.reverse()\n",
    "        assert len(gradients) == len(lambdas_), print(\"Gradients {}, Lambdas {}\".format(gradients,lambdas_))\n",
    "\n",
    "        sum_of_gradients = [np.array(gradients[i]) * lambdas_[i] for i in range(len(gradients))]\n",
    "        sum_of_gradients = np.array(sum_of_gradients).sum(axis=0)\n",
    "\n",
    "        delta_wt = alpha * (P(w,seq[t+1]) - P(w,seq[t])) * sum_of_gradients\n",
    "        sum_of_delta_wt = np.add(sum_of_delta_wt, delta_wt)\n",
    "\n",
    "        if verbose:\n",
    "          print(\"Gradients,Lambdas\",gradients,lambdas_)\n",
    "          print(\"Unweighted sum of gradients\",np.array(gradients).sum(axis=0),\"calculated from\",seq[:t+1])\n",
    "          print(\"Weighted sum of gradients\",sum_of_gradients)\n",
    "          print(\"Need to multiply [weighted] sum of gradients by alpha multiplied by difference between P calculated from {} (t+1) and P calculated from {} (t)\".format(seq[t+1],seq[t]))\n",
    "          print(\"P(t+1) = {}, P(t) = {}\".format(P(w,seq[t+1]),P(w,seq[t]) ))\n",
    "          print(\"Increment delta(w_t) = alpha * (difference between P) * (weighted sum of gradients) = \",delta_wt)\n",
    "\n",
    "      # Weight update after each sequence, rather than after each complete training set\n",
    "      w = w + sum_of_delta_wt\n",
    "#       w = np.maximum(np.minimum(w,np.ones_like(w)), np.zeros_like(w)) # don't want negative weights\n",
    "    \n",
    "    # Save the weights at the end of each training set\n",
    "    # w = np.maximum(w, np.zeros_like(w)) # don't want negative weights\n",
    "    w_vectors.append(w)\n",
    "    \n",
    "    # Also save the predictions at the end of each training set\n",
    "    pred = np.array([P(w,states[i]) for i in range(len(states))])\n",
    "    pred = np.maximum(np.minimum(pred,np.ones_like(pred)),np.zeros_like(pred)) # you can't have negative probabilities\n",
    "    predictions.append(pred)\n",
    "\n",
    "    # Save error at end of each training set\n",
    "    error = RMSError(pred=pred)\n",
    "    errors.append(error)\n",
    "\n",
    "  return np.array(errors).mean()"
   ]
  },
  {
   "cell_type": "code",
   "execution_count": 19,
   "metadata": {
    "id": "r7neudnQwQWY"
   },
   "outputs": [],
   "source": [
    "def optimize_TD_Lambda_Expt2(lambda_,alpha_min,alpha_max,num_alphas):\n",
    "  '''\n",
    "  Function for optimizing Expt 2 with grid search for alpha\n",
    "  '''\n",
    "  best_alpha = None\n",
    "  best_error = np.inf\n",
    "  for alpha in np.linspace(alpha_min,alpha_max,num_alphas):\n",
    "    RMS = TD_Lambda_Expt2(lambda_ = lambda_, alpha = alpha)\n",
    "    if RMS < best_error:\n",
    "      best_error = RMS\n",
    "      best_alpha = alpha\n",
    "  return best_error,best_alpha"
   ]
  },
  {
   "cell_type": "code",
   "execution_count": 20,
   "metadata": {
    "id": "G0IDr7ABwQWY"
   },
   "outputs": [],
   "source": [
    "# Generate plot points for Expt 2 Version 1, Fig 5\n",
    "coords_Expt2 = []\n",
    "for lambda_ in np.linspace(0,1,10):\n",
    "  best_error,_ = optimize_TD_Lambda_Expt2(lambda_ = lambda_,alpha_min = 0, alpha_max = 0.6, num_alphas = 100)\n",
    "  datapoint = [lambda_,best_error]\n",
    "  coords_Expt2.append(datapoint)"
   ]
  },
  {
   "cell_type": "code",
   "execution_count": 21,
   "metadata": {
    "id": "ielfm3jOwQWY"
   },
   "outputs": [
    {
     "data": {
      "image/png": "[encoded data removed]",
      "text/plain": [
       "<Figure size 432x288 with 1 Axes>"
      ]
     },
     "metadata": {
      "needs_background": "light"
     },
     "output_type": "display_data"
    }
   ],
   "source": [
    "# Plot points for Expt 2 Version 1, Fig 5\n",
    "plt.scatter(x = [elem[0] for elem in coords_Expt2],\n",
    "            y = [elem[1] for elem in coords_Expt2])\n",
    "plt.xlabel('lambda')\n",
    "plt.ylabel('error')\n",
    "plt.title('Error with best learning rate (averaged over 100 training sets)\\nunder single presentation paradigm (Experiment 2)')\n",
    "plt.savefig('./project1_expt2_Version1_Figure5.png')\n",
    "plt.show()"
   ]
  },
  {
   "cell_type": "code",
   "execution_count": 22,
   "metadata": {},
   "outputs": [],
   "source": [
    "def TD_Lambda_Expt2_Grid(lambdas_,alphas):\n",
    "  data = {}\n",
    "  for lambda_ in lambdas_:\n",
    "    line = []\n",
    "    for alpha in alphas:\n",
    "      RMS = TD_Lambda_Expt2(lambda_ = lambda_, alpha = alpha)\n",
    "      line.append([alpha,RMS])\n",
    "    data[lambda_] = line\n",
    "  return data"
   ]
  },
  {
   "cell_type": "code",
   "execution_count": 23,
   "metadata": {},
   "outputs": [],
   "source": [
    "lambdas_ = [0,0.3,0.8,1]\n",
    "alphas = np.linspace(0,0.6,6)\n",
    "\n",
    "data = TD_Lambda_Expt2_Grid(lambdas_,alphas)"
   ]
  },
  {
   "cell_type": "code",
   "execution_count": 24,
   "metadata": {},
   "outputs": [
    {
     "data": {
      "image/png": "[encoded data removed]",
      "text/plain": [
       "<Figure size 432x288 with 1 Axes>"
      ]
     },
     "metadata": {
      "needs_background": "light"
     },
     "output_type": "display_data"
    }
   ],
   "source": [
    "for key in data.keys():\n",
    "  label = \"lambda = \" + str(key)\n",
    "  line = data[key]\n",
    "  x = [elem[0] for elem in line]\n",
    "  y = [elem[1] for elem in line]\n",
    "  plt.plot(x,y,label=label)\n",
    "plt.legend()\n",
    "plt.xlabel(\"alpha\")\n",
    "plt.ylabel(\"error\")\n",
    "plt.title(\"Average error on random walk problem (averaged over 100 training sets)\\nunder the single presentation paradigm (Experiment 2)\")\n",
    "plt.savefig('./project1_expt2_Version1_Figure4.png')\n",
    "plt.show()"
   ]
  },
  {
   "cell_type": "code",
   "execution_count": 25,
   "metadata": {},
   "outputs": [],
   "source": [
    "####### Experiment 2 - Version 2 ####### \n",
    "# Experiment 2, but with resetting the accumulator of delta w_t (i.e. Sum of delta w_t) to zero in between sequences in the same training set"
   ]
  },
  {
   "cell_type": "code",
   "execution_count": 26,
   "metadata": {},
   "outputs": [],
   "source": [
    "def TD_Lambda_Expt2_Version2(alpha=0.02,lambda_=0.2,verbose=False):\n",
    "\n",
    "  global training_sets\n",
    "\n",
    "  predictions = []\n",
    "  w_vectors = []\n",
    "  errors = []\n",
    "\n",
    "  for training_set in training_sets:      # Present training set only ONCE\n",
    "\n",
    "    # sum_of_delta_wt = np.zeros(5)\n",
    "\n",
    "    # Initialize w at the start of each training set\n",
    "    # All components of weight vector initially set to 0.5, to avoid bias either toward right/left-side terminations\n",
    "    w = np.array([0.5] * 5)\n",
    "\n",
    "    for seq in training_set:\n",
    "\n",
    "      # Sum of delta_Wt will be reset at the end of each sequence\n",
    "      sum_of_delta_wt = np.zeros(5)\n",
    "\n",
    "      if verbose:\n",
    "        print(\"****SEQUENCE******\",seq)\n",
    "        print(\"Current value of w:\",w)\n",
    "\n",
    "      for t in range(len(seq)-1):\n",
    "\n",
    "        if verbose:\n",
    "          print(\"---State---\",seq[t])\n",
    "\n",
    "        gradients = ([list(x) for x in  seq[:t+1]])\n",
    "        lambdas_ = [lambda_**exponent for exponent in range(0,t+1)]\n",
    "        lambdas_.reverse()\n",
    "        assert len(gradients) == len(lambdas_), print(\"Gradients {}, Lambdas {}\".format(gradients,lambdas_))\n",
    "\n",
    "        sum_of_gradients = [np.array(gradients[i]) * lambdas_[i] for i in range(len(gradients))]\n",
    "        sum_of_gradients = np.array(sum_of_gradients).sum(axis=0)\n",
    "\n",
    "        delta_wt = alpha * (P(w,seq[t+1]) - P(w,seq[t])) * sum_of_gradients\n",
    "        sum_of_delta_wt = np.add(sum_of_delta_wt, delta_wt)\n",
    "\n",
    "        if verbose:\n",
    "          print(\"Gradients,Lambdas\",gradients,lambdas_)\n",
    "          print(\"Unweighted sum of gradients\",np.array(gradients).sum(axis=0),\"calculated from\",seq[:t+1])\n",
    "          print(\"Weighted sum of gradients\",sum_of_gradients)\n",
    "          print(\"Need to multiply [weighted] sum of gradients by alpha multiplied by difference between P calculated from {} (t+1) and P calculated from {} (t)\".format(seq[t+1],seq[t]))\n",
    "          print(\"P(t+1) = {}, P(t) = {}\".format(P(w,seq[t+1]),P(w,seq[t]) ))\n",
    "          print(\"Increment delta(w_t) = alpha * (difference between P) * (weighted sum of gradients) = \",delta_wt)\n",
    "\n",
    "      # Weight update after each sequence, rather than after each complete training set\n",
    "      w = np.add(w,sum_of_delta_wt)\n",
    "#       w = np.maximum(np.minimum(w,np.ones_like(w)), np.zeros_like(w)) ## don't want negative values in w\n",
    "    \n",
    "    # Save the (asymptotic) weights at the end of each training set\n",
    "    # w = np.maximum(w, np.zeros_like(w)) # don't want negative weights\n",
    "    w_vectors.append(w)\n",
    "    \n",
    "    # Also save the predictions at the end of each training set \n",
    "    pred = np.array([P(w,states[i]) for i in range(len(states))])\n",
    "    pred = np.maximum(np.minimum(pred,np.ones_like(pred)),np.zeros_like(pred)) ## don't want negative prediction probabilities\n",
    "    predictions.append(pred)\n",
    "\n",
    "    # Save error (calculated using asymptotic weights) at the end of each training set\n",
    "    error = RMSError(pred=np.array(pred))\n",
    "    errors.append(error)\n",
    "\n",
    "  return np.array(errors).mean()"
   ]
  },
  {
   "cell_type": "code",
   "execution_count": 27,
   "metadata": {},
   "outputs": [],
   "source": [
    "def optimize_TD_Lambda_Expt2_Version2(lambda_,alpha_min,alpha_max,num_alphas):\n",
    "  best_alpha = None\n",
    "  best_error = np.inf\n",
    "  best_pred = None\n",
    "  true_val = (np.array(range(7))/6)[1:-1]\n",
    "  for alpha in np.linspace(alpha_min,alpha_max,num_alphas):\n",
    "    RMS = TD_Lambda_Expt2_Version2(lambda_ = lambda_, alpha = alpha)\n",
    "    if RMS < best_error:\n",
    "      best_error = RMS\n",
    "      best_alpha = alpha\n",
    "  return best_error,best_alpha"
   ]
  },
  {
   "cell_type": "code",
   "execution_count": 28,
   "metadata": {},
   "outputs": [
    {
     "data": {
      "image/png": "[encoded data removed]",
      "text/plain": [
       "<Figure size 432x288 with 1 Axes>"
      ]
     },
     "metadata": {
      "needs_background": "light"
     },
     "output_type": "display_data"
    }
   ],
   "source": [
    "coords = []\n",
    "for lambda_ in np.linspace(0,1,10):\n",
    "  best_error,_ = optimize_TD_Lambda_Expt2_Version2(lambda_ = lambda_,alpha_min = 0, alpha_max = 0.6, num_alphas = 100)\n",
    "  datapoint = [lambda_,best_error]\n",
    "  coords.append(datapoint)\n",
    "\n",
    "plt.scatter(x = [elem[0] for elem in coords],\n",
    "            y = [elem[1] for elem in coords])\n",
    "plt.xlabel('lambda')\n",
    "plt.ylabel('error using best alpha')\n",
    "plt.title('Error with best learning rate (averaged over 100 training sets)\\nunder single presentation paradigm (Experiment 2) -- Version 2')\n",
    "plt.savefig('./project1_expt2_Version2_Figure5.png')\n",
    "plt.show()"
   ]
  },
  {
   "cell_type": "code",
   "execution_count": 29,
   "metadata": {},
   "outputs": [],
   "source": [
    "def TD_Lambda_Expt2_Version2_Grid(lambdas_,alphas):\n",
    "  data = {}\n",
    "  for lambda_ in lambdas_:\n",
    "    line = []\n",
    "    for alpha in alphas:\n",
    "      RMS = TD_Lambda_Expt2_Version2(lambda_ = lambda_, alpha = alpha)\n",
    "      line.append([alpha,RMS])\n",
    "    data[lambda_] = line\n",
    "  return data"
   ]
  },
  {
   "cell_type": "code",
   "execution_count": 30,
   "metadata": {},
   "outputs": [],
   "source": [
    "lambdas_ = [0,0.3,0.8,1]\n",
    "alphas = [0,0.1,0.2,0.3,0.4,0.5,0.6]\n",
    "\n",
    "data = TD_Lambda_Expt2_Grid(lambdas_,alphas)"
   ]
  },
  {
   "cell_type": "code",
   "execution_count": 31,
   "metadata": {},
   "outputs": [
    {
     "data": {
      "image/png": "[encoded data removed]",
      "text/plain": [
       "<Figure size 432x288 with 1 Axes>"
      ]
     },
     "metadata": {
      "needs_background": "light"
     },
     "output_type": "display_data"
    }
   ],
   "source": [
    "for key in data.keys():\n",
    "  label = \"lambda = \" + str(key)\n",
    "  line = data[key]\n",
    "  x = [elem[0] for elem in line]\n",
    "  y = [elem[1] for elem in line]\n",
    "  plt.plot(x,y,label=label)\n",
    "plt.legend()\n",
    "plt.xlabel(\"alpha\")\n",
    "plt.ylabel(\"error\")\n",
    "plt.title(\"Average error on random walk problem (averaged over 100 training sets)\\nunder the single presentation paradigm (Experiment 2) -- Version 2\")\n",
    "plt.savefig('./project1_expt2_Version2_Figure4.png')\n",
    "plt.show()"
   ]
  },
  {
   "cell_type": "code",
   "execution_count": 33,
   "metadata": {},
   "outputs": [],
   "source": [
    "#################################################################\n",
    "#################################################################\n",
    "##########################PART B#################################\n",
    "############## EXPERIMENTS 1 AND 2, WITHOUT REMOVING PROBABILITY PREDICTIONS THAT ARE NEGATIVE OR LARGER THAN UNITY ##############\n",
    "#################################################################\n",
    "#################################################################\n",
    "#################################################################"
   ]
  },
  {
   "cell_type": "code",
   "execution_count": 35,
   "metadata": {},
   "outputs": [
    {
     "name": "stderr",
     "output_type": "stream",
     "text": [
      "C:\\Users\\ansel\\AppData\\Local\\Temp/ipykernel_1384/4089557768.py:66: RuntimeWarning: overflow encountered in add\n",
      "  sum_of_delta_wt = np.add(sum_of_delta_wt, delta_wt)\n",
      "C:\\Users\\ansel\\AppData\\Local\\Temp/ipykernel_1384/4089557768.py:65: RuntimeWarning: overflow encountered in double_scalars\n",
      "  delta_wt = alpha * (P(w,seq[t+1]) - P(w,seq[t])) * weighted_sum_of_gradients\n",
      "C:\\Users\\ansel\\AppData\\Local\\Temp/ipykernel_1384/4089557768.py:65: RuntimeWarning: invalid value encountered in multiply\n",
      "  delta_wt = alpha * (P(w,seq[t+1]) - P(w,seq[t])) * weighted_sum_of_gradients\n"
     ]
    },
    {
     "name": "stdout",
     "output_type": "stream",
     "text": [
      "[0.0, 0.15964493512006764]\n"
     ]
    },
    {
     "name": "stderr",
     "output_type": "stream",
     "text": [
      "C:\\Users\\ansel\\AppData\\Local\\Temp/ipykernel_1384/4089557768.py:66: RuntimeWarning: invalid value encountered in add\n",
      "  sum_of_delta_wt = np.add(sum_of_delta_wt, delta_wt)\n"
     ]
    },
    {
     "name": "stdout",
     "output_type": "stream",
     "text": [
      "[0.1, 0.15975551958864698]\n",
      "[0.2, 0.16003543574159707]\n",
      "[0.30000000000000004, 0.16050167647280744]\n",
      "[0.4, 0.1611953981213126]\n",
      "[0.5, 0.16219697326329086]\n",
      "[0.6000000000000001, 0.16363609708337198]\n",
      "[0.7000000000000001, 0.16573496078334615]\n",
      "[0.8, 0.16885546668862886]\n",
      "[0.9, 0.17359342575282372]\n",
      "[1.0, 0.18096167181330652]\n"
     ]
    },
    {
     "data": {
      "image/png": "[encoded data removed]",
      "text/plain": [
       "<Figure size 432x288 with 1 Axes>"
      ]
     },
     "metadata": {
      "needs_background": "light"
     },
     "output_type": "display_data"
    }
   ],
   "source": [
    "################################\n",
    "################################\n",
    "######### Experiment 1 #########\n",
    "################################\n",
    "################################\n",
    "\n",
    "# An exception class to be raised when there is \"nonconvergence\" beyond a certain number of presentations of the training set\n",
    "class NonconvergenceException(BaseException):\n",
    "  def __init__(self):\n",
    "    super().__init__()\n",
    "\n",
    "def TD_Lambda_Expt1(alpha=0.02,lambda_=0.2,verbose=False,max_presentations = 1000):\n",
    "  \n",
    "  '''\n",
    "  Sutton's experiment 1, where there are multiple presentations of training set until convergence, and weight vector is only updated at the end of each training set presentation\n",
    "  \n",
    "  Inputs:\n",
    "  1. alpha: Learning rate\n",
    "  2. lambda: discount factor\n",
    "  3. verbose: whether you want printouts of the various intermediate variables (for debugging)\n",
    "  4. max_presentations: a limit on the number of presentations a training set can be presented before a NonconvergenceException is raised\n",
    "  '''\n",
    "\n",
    "  global training_sets \n",
    "\n",
    "  predictions = []                    # Array of predictions across training sets\n",
    "  errors = []                         # Array of errors across training sets\n",
    "  w_vectors = []                      # Array of weight vectors across training sets\n",
    "\n",
    "  for training_set in training_sets:  # For each training set in the collection of 100 training sets\n",
    "\n",
    "    # Initialize w at the start of each training set\n",
    "    w = np.random.uniform(0,1,5)      # Final weight vector is independent of the initialization\n",
    "\n",
    "    is_not_converged = True\n",
    "    num_presentations = 0             \n",
    "\n",
    "    while is_not_converged:           # Present each training set multiple times until convergence of weight vector\n",
    "    \n",
    "      # To prevent issues with running time if there is nonconvergence due to large alpha.\n",
    "      if num_presentations > max_presentations:\n",
    "        break\n",
    "\n",
    "      # We will accumulate the delta w_t's across sequences in a presentation of a training set\n",
    "      sum_of_delta_wt = np.zeros(5)   # Initialize accumulator of delta w_t's to zero at the start of each presentation\n",
    "\n",
    "      for seq in training_set:        # For each of the 10 sequences in the training set\n",
    "\n",
    "        if verbose:\n",
    "          print(\"****SEQUENCE******\",seq)\n",
    "          print(\"Current value of w:\",w)\n",
    "\n",
    "        for t in range(len(seq)-1):   # For each of the m states in the sequence\n",
    "\n",
    "          if verbose:\n",
    "            print(\"---State---\",seq[t])\n",
    "\n",
    "          # Calculate weighted sum of gradients\n",
    "          gradients = ([list(x) for x in seq[:t+1]])\n",
    "          lambdas_ = [lambda_**exponent for exponent in range(0,t+1)]\n",
    "          lambdas_.reverse()\n",
    "          weighted_gradients = [np.array(gradients[i]) * lambdas_[i] for i in range(len(gradients))]\n",
    "          weighted_sum_of_gradients = np.array(weighted_gradients).sum(axis=0)\n",
    "\n",
    "          delta_wt = alpha * (P(w,seq[t+1]) - P(w,seq[t])) * weighted_sum_of_gradients\n",
    "          sum_of_delta_wt = np.add(sum_of_delta_wt, delta_wt)\n",
    "\n",
    "          if verbose:\n",
    "            print(\"Gradients (x_t),Lambdas (exponential weighting)\",gradients,lambdas_)\n",
    "            print(\"Unweighted sum of gradients (sum of x_t) =\",np.array(gradients).sum(axis=0),\"was calculated from\",seq[:t+1])\n",
    "            print(\"Weighted sum of gradients (weighted sum of x_t)\",weighted_sum_of_gradients)\n",
    "            print(\"Need to multiply [weighted] sum of gradients by alpha multiplied by difference between P calculated from {} (t+1) and P calculated from {} (t)\".format(seq[t+1],seq[t]))\n",
    "            print(\"P(t+1) = {}, P(t) = {}\".format(P(w,seq[t+1]),P(w,seq[t]) ))\n",
    "            print(\"Increment delta(w_t) = alpha * (difference between P) * (weighted sum of gradients) = \",delta_wt)\n",
    "            print(\"Sum of delta_wt\",sum_of_delta_wt)\n",
    "\n",
    "      # Update the weight vector only after each complete presentation of the training set\n",
    "      w_new = np.add(w, sum_of_delta_wt)\n",
    "      if np.isclose(w_new,w).all():\n",
    "        is_not_converged = False\n",
    "        w = w_new\n",
    "      else:\n",
    "        num_presentations += 1\n",
    "        w = w_new\n",
    "    \n",
    "    if is_not_converged:\n",
    "      raise NonconvergenceException\n",
    "    \n",
    "    # Save the weights at the end of each training set\n",
    "    w_vectors.append(w)\n",
    "\n",
    "    # Also save the predictions at the end of each training set\n",
    "    pred = np.array([P(w,states[i]) for i in range(len(states))])\n",
    "#     pred = np.maximum(np.minimum(pred,np.ones_like(pred)),np.zeros_like(pred))\n",
    "    error = RMSError(pred = np.array(pred))\n",
    "    predictions.append(pred)\n",
    "\n",
    "    # Save the error of that training set\n",
    "    errors.append(error)\n",
    "\n",
    "  return np.array(errors).mean()\n",
    "\n",
    "# Try out Experimnent 1 with default settings of alpha and lambda\n",
    "TD_Lambda_Expt1(alpha=0.02,lambda_=0.2,\n",
    "                # verbose=True, \n",
    "                max_presentations = 1000)\n",
    "\n",
    "def optimize_TD_Lambda_Expt1(lambda_,alpha_min,alpha_max,num_alphas,max_presentations):\n",
    "  '''\n",
    "  A function for optimizing TD(lambda) under Experiment 1 regime, with a grid search for the best alpha which gives the best RMSE error.\n",
    "  The user has to input the minimum alpha, max alpha, and the number of alphas he wants to search over.\n",
    "  The user is also able to enter the number of max presentations that will be allowed.\n",
    "  '''\n",
    "  best_alpha = None\n",
    "  best_error = np.inf\n",
    "  for alpha in np.linspace(alpha_min,alpha_max,num_alphas): \n",
    "    try:\n",
    "      RMSE =  TD_Lambda_Expt1(lambda_ = lambda_, alpha=alpha, max_presentations = max_presentations)\n",
    "    except NonconvergenceException:\n",
    "      continue\n",
    "    if RMSE < best_error:\n",
    "      best_error = RMSE\n",
    "      best_alpha = alpha\n",
    "  return best_error,best_alpha\n",
    "\n",
    "# Generate datapoints for Figure 3, Expt 1\n",
    "coords_Expt1 = []\n",
    "for lambda_ in np.linspace(0,1,11):\n",
    "  best_error,_ = optimize_TD_Lambda_Expt1(lambda_ = lambda_,alpha_min = 0, alpha_max = 0.3, num_alphas = 30,max_presentations = 1000)\n",
    "  datapoint = [lambda_,best_error]\n",
    "  print(datapoint)\n",
    "  coords_Expt1.append(datapoint)\n",
    "\n",
    "# Plot data points for Figure 3, Expt 1\n",
    "plt.scatter(x = [elem[0] for elem in coords_Expt1],\n",
    "            y = [elem[1] for elem in coords_Expt1])\n",
    "plt.xlabel('lambda')\n",
    "plt.ylabel('error')\n",
    "plt.title('Error with best learning rate (averaged over 100 training sets)\\nunder repeated presentations paradigm (Experiment 1)')\n",
    "plt.savefig('./project1_expt1.png')\n",
    "plt.show()"
   ]
  },
  {
   "cell_type": "code",
   "execution_count": 36,
   "metadata": {},
   "outputs": [
    {
     "data": {
      "image/png": "[encoded data removed]",
      "text/plain": [
       "<Figure size 432x288 with 1 Axes>"
      ]
     },
     "metadata": {
      "needs_background": "light"
     },
     "output_type": "display_data"
    }
   ],
   "source": [
    "\n",
    "####### Experiment 2 - Version 1 ####### \n",
    "\n",
    "def TD_Lambda_Expt2(alpha=0.02,lambda_=0.2,verbose=False):\n",
    "\n",
    "  '''\n",
    "  Sutton's experiment 2. Single presentation of each training set. Weight vector updates after EACH sequence in a training set.\n",
    "  \n",
    "  Version 1: the sum of delta (w_t) persists across a training set and it is not reset to zero.\n",
    "  \n",
    "  Inputs:\n",
    "  1. alpha: Learning rate\n",
    "  2. lambda: discount factor\n",
    "  3. verbose: whether you want printouts of the various intermediate variables (for debugging)\n",
    "  '''\n",
    "    \n",
    "  global training_sets\n",
    "\n",
    "  predictions = []\n",
    "  w_vectors = []\n",
    "  errors = []\n",
    "\n",
    "  for training_set in training_sets:      # Present training set only ONCE\n",
    "\n",
    "    # Sum of delta wt - accumulates the delta w_t in each state of sequence in training set\n",
    "    sum_of_delta_wt = np.zeros(5)\n",
    "\n",
    "    # Initialize w at the start of each training set\n",
    "    # All components of weight vector initially set to 0.5, to avoid bias either toward right/left-side terminations\n",
    "    w = np.array([0.5] * 5)\n",
    "\n",
    "    for seq in training_set:\n",
    "\n",
    "      if verbose:\n",
    "        print(\"****SEQUENCE******\",seq)\n",
    "        print(\"Current value of w:\",w)\n",
    "\n",
    "      for t in range(len(seq)-1):\n",
    "\n",
    "        if verbose:\n",
    "          print(\"---State---\",seq[t])\n",
    "\n",
    "        gradients = ([list(x) for x in  seq[:t+1]])\n",
    "        lambdas_ = [lambda_**exponent for exponent in range(0,t+1)]\n",
    "        lambdas_.reverse()\n",
    "        assert len(gradients) == len(lambdas_), print(\"Gradients {}, Lambdas {}\".format(gradients,lambdas_))\n",
    "\n",
    "        sum_of_gradients = [np.array(gradients[i]) * lambdas_[i] for i in range(len(gradients))]\n",
    "        sum_of_gradients = np.array(sum_of_gradients).sum(axis=0)\n",
    "\n",
    "        delta_wt = alpha * (P(w,seq[t+1]) - P(w,seq[t])) * sum_of_gradients\n",
    "        sum_of_delta_wt = np.add(sum_of_delta_wt, delta_wt)\n",
    "\n",
    "        if verbose:\n",
    "          print(\"Gradients,Lambdas\",gradients,lambdas_)\n",
    "          print(\"Unweighted sum of gradients\",np.array(gradients).sum(axis=0),\"calculated from\",seq[:t+1])\n",
    "          print(\"Weighted sum of gradients\",sum_of_gradients)\n",
    "          print(\"Need to multiply [weighted] sum of gradients by alpha multiplied by difference between P calculated from {} (t+1) and P calculated from {} (t)\".format(seq[t+1],seq[t]))\n",
    "          print(\"P(t+1) = {}, P(t) = {}\".format(P(w,seq[t+1]),P(w,seq[t]) ))\n",
    "          print(\"Increment delta(w_t) = alpha * (difference between P) * (weighted sum of gradients) = \",delta_wt)\n",
    "\n",
    "      # Weight update after each sequence, rather than after each complete training set\n",
    "      w = w + sum_of_delta_wt\n",
    "#       w = np.maximum(np.minimum(w,np.ones_like(w)), np.zeros_like(w)) # don't want negative weights\n",
    "    \n",
    "    # Save the weights at the end of each training set\n",
    "    # w = np.maximum(w, np.zeros_like(w)) # don't want negative weights\n",
    "    w_vectors.append(w)\n",
    "    \n",
    "    # Also save the predictions at the end of each training set\n",
    "    pred = np.array([P(w,states[i]) for i in range(len(states))])\n",
    "#     pred = np.maximum(np.minimum(pred,np.ones_like(pred)),np.zeros_like(pred)) # you can't have negative probabilities\n",
    "    predictions.append(pred)\n",
    "\n",
    "    # Save error at end of each training set\n",
    "    error = RMSError(pred=pred)\n",
    "    errors.append(error)\n",
    "\n",
    "  return np.array(errors).mean()\n",
    "\n",
    "def optimize_TD_Lambda_Expt2(lambda_,alpha_min,alpha_max,num_alphas):\n",
    "  '''\n",
    "  Function for optimizing Expt 2 with grid search for alpha\n",
    "  '''\n",
    "  best_alpha = None\n",
    "  best_error = np.inf\n",
    "  for alpha in np.linspace(alpha_min,alpha_max,num_alphas):\n",
    "    RMS = TD_Lambda_Expt2(lambda_ = lambda_, alpha = alpha)\n",
    "    if RMS < best_error:\n",
    "      best_error = RMS\n",
    "      best_alpha = alpha\n",
    "  return best_error,best_alpha\n",
    "\n",
    "# Generate plot points for Expt 2 Version 1, Fig 5\n",
    "coords_Expt2 = []\n",
    "for lambda_ in np.linspace(0,1,10):\n",
    "  best_error,_ = optimize_TD_Lambda_Expt2(lambda_ = lambda_,alpha_min = 0, alpha_max = 0.6, num_alphas = 100)\n",
    "  datapoint = [lambda_,best_error]\n",
    "  coords_Expt2.append(datapoint)\n",
    "\n",
    "# Plot points for Expt 2 Version 1, Fig 5\n",
    "plt.scatter(x = [elem[0] for elem in coords_Expt2],\n",
    "            y = [elem[1] for elem in coords_Expt2])\n",
    "plt.xlabel('lambda')\n",
    "plt.ylabel('error')\n",
    "plt.title('Error with best learning rate (averaged over 100 training sets)\\nunder single presentation paradigm (Experiment 2)')\n",
    "plt.savefig('./project1_expt2_Version1_Figure5.png')\n",
    "plt.show()"
   ]
  },
  {
   "cell_type": "code",
   "execution_count": 37,
   "metadata": {},
   "outputs": [
    {
     "data": {
      "image/png": "[encoded data removed]",
      "text/plain": [
       "<Figure size 432x288 with 1 Axes>"
      ]
     },
     "metadata": {
      "needs_background": "light"
     },
     "output_type": "display_data"
    }
   ],
   "source": [
    "def TD_Lambda_Expt2_Grid(lambdas_,alphas):\n",
    "  data = {}\n",
    "  for lambda_ in lambdas_:\n",
    "    line = []\n",
    "    for alpha in alphas:\n",
    "      RMS = TD_Lambda_Expt2(lambda_ = lambda_, alpha = alpha)\n",
    "      line.append([alpha,RMS])\n",
    "    data[lambda_] = line\n",
    "  return data\n",
    "\n",
    "lambdas_ = [0,0.3,0.8,1]\n",
    "alphas = np.linspace(0,0.6,6)\n",
    "\n",
    "data = TD_Lambda_Expt2_Grid(lambdas_,alphas)\n",
    "\n",
    "for key in data.keys():\n",
    "  label = \"lambda = \" + str(key)\n",
    "  line = data[key]\n",
    "  x = [elem[0] for elem in line]\n",
    "  y = [elem[1] for elem in line]\n",
    "  plt.plot(x,y,label=label)\n",
    "plt.legend()\n",
    "plt.xlabel(\"alpha\")\n",
    "plt.ylabel(\"error\")\n",
    "plt.title(\"Average error on random walk problem (averaged over 100 training sets)\\nunder the single presentation paradigm (Experiment 2)\")\n",
    "plt.savefig('./project1_expt2_Version1_Figure4.png')\n",
    "plt.show()"
   ]
  },
  {
   "cell_type": "code",
   "execution_count": 38,
   "metadata": {},
   "outputs": [
    {
     "data": {
      "image/png": "[encoded data removed]",
      "text/plain": [
       "<Figure size 432x288 with 1 Axes>"
      ]
     },
     "metadata": {
      "needs_background": "light"
     },
     "output_type": "display_data"
    }
   ],
   "source": [
    "####### Experiment 2 - Version 2 ####### \n",
    "# Experiment 2, but with resetting the accumulator of delta w_t (i.e. Sum of delta w_t) to zero in between sequences in the same training set\n",
    "\n",
    "def TD_Lambda_Expt2_Version2(alpha=0.02,lambda_=0.2,verbose=False):\n",
    "\n",
    "  global training_sets\n",
    "\n",
    "  predictions = []\n",
    "  w_vectors = []\n",
    "  errors = []\n",
    "\n",
    "  for training_set in training_sets:      # Present training set only ONCE\n",
    "\n",
    "    # sum_of_delta_wt = np.zeros(5)\n",
    "\n",
    "    # Initialize w at the start of each training set\n",
    "    # All components of weight vector initially set to 0.5, to avoid bias either toward right/left-side terminations\n",
    "    w = np.array([0.5] * 5)\n",
    "\n",
    "    for seq in training_set:\n",
    "\n",
    "      # Sum of delta_Wt will be reset at the end of each sequence\n",
    "      sum_of_delta_wt = np.zeros(5)\n",
    "\n",
    "      if verbose:\n",
    "        print(\"****SEQUENCE******\",seq)\n",
    "        print(\"Current value of w:\",w)\n",
    "\n",
    "      for t in range(len(seq)-1):\n",
    "\n",
    "        if verbose:\n",
    "          print(\"---State---\",seq[t])\n",
    "\n",
    "        gradients = ([list(x) for x in  seq[:t+1]])\n",
    "        lambdas_ = [lambda_**exponent for exponent in range(0,t+1)]\n",
    "        lambdas_.reverse()\n",
    "        assert len(gradients) == len(lambdas_), print(\"Gradients {}, Lambdas {}\".format(gradients,lambdas_))\n",
    "\n",
    "        sum_of_gradients = [np.array(gradients[i]) * lambdas_[i] for i in range(len(gradients))]\n",
    "        sum_of_gradients = np.array(sum_of_gradients).sum(axis=0)\n",
    "\n",
    "        delta_wt = alpha * (P(w,seq[t+1]) - P(w,seq[t])) * sum_of_gradients\n",
    "        sum_of_delta_wt = np.add(sum_of_delta_wt, delta_wt)\n",
    "\n",
    "        if verbose:\n",
    "          print(\"Gradients,Lambdas\",gradients,lambdas_)\n",
    "          print(\"Unweighted sum of gradients\",np.array(gradients).sum(axis=0),\"calculated from\",seq[:t+1])\n",
    "          print(\"Weighted sum of gradients\",sum_of_gradients)\n",
    "          print(\"Need to multiply [weighted] sum of gradients by alpha multiplied by difference between P calculated from {} (t+1) and P calculated from {} (t)\".format(seq[t+1],seq[t]))\n",
    "          print(\"P(t+1) = {}, P(t) = {}\".format(P(w,seq[t+1]),P(w,seq[t]) ))\n",
    "          print(\"Increment delta(w_t) = alpha * (difference between P) * (weighted sum of gradients) = \",delta_wt)\n",
    "\n",
    "      # Weight update after each sequence, rather than after each complete training set\n",
    "      w = np.add(w,sum_of_delta_wt)\n",
    "#       w = np.maximum(np.minimum(w,np.ones_like(w)), np.zeros_like(w)) ## don't want negative values in w\n",
    "    \n",
    "    # Save the (asymptotic) weights at the end of each training set\n",
    "    # w = np.maximum(w, np.zeros_like(w)) # don't want negative weights\n",
    "    w_vectors.append(w)\n",
    "    \n",
    "    # Also save the predictions at the end of each training set \n",
    "    pred = np.array([P(w,states[i]) for i in range(len(states))])\n",
    "#     pred = np.maximum(np.minimum(pred,np.ones_like(pred)),np.zeros_like(pred)) ## don't want negative prediction probabilities\n",
    "    predictions.append(pred)\n",
    "\n",
    "    # Save error (calculated using asymptotic weights) at the end of each training set\n",
    "    error = RMSError(pred=np.array(pred))\n",
    "    errors.append(error)\n",
    "\n",
    "  return np.array(errors).mean()\n",
    "\n",
    "def optimize_TD_Lambda_Expt2_Version2(lambda_,alpha_min,alpha_max,num_alphas):\n",
    "  best_alpha = None\n",
    "  best_error = np.inf\n",
    "  best_pred = None\n",
    "  true_val = (np.array(range(7))/6)[1:-1]\n",
    "  for alpha in np.linspace(alpha_min,alpha_max,num_alphas):\n",
    "    RMS = TD_Lambda_Expt2_Version2(lambda_ = lambda_, alpha = alpha)\n",
    "    if RMS < best_error:\n",
    "      best_error = RMS\n",
    "      best_alpha = alpha\n",
    "  return best_error,best_alpha\n",
    "\n",
    "coords = []\n",
    "for lambda_ in np.linspace(0,1,10):\n",
    "  best_error,_ = optimize_TD_Lambda_Expt2_Version2(lambda_ = lambda_,alpha_min = 0, alpha_max = 0.6, num_alphas = 100)\n",
    "  datapoint = [lambda_,best_error]\n",
    "  coords.append(datapoint)\n",
    "\n",
    "plt.scatter(x = [elem[0] for elem in coords],\n",
    "            y = [elem[1] for elem in coords])\n",
    "plt.xlabel('lambda')\n",
    "plt.ylabel('error using best alpha')\n",
    "plt.title('Error with best learning rate (averaged over 100 training sets)\\nunder single presentation paradigm (Experiment 2) -- Version 2')\n",
    "plt.savefig('./project1_expt2_Version2_Figure5.png')\n",
    "plt.show()"
   ]
  },
  {
   "cell_type": "code",
   "execution_count": 39,
   "metadata": {},
   "outputs": [
    {
     "data": {
      "image/png": "[encoded data removed]",
      "text/plain": [
       "<Figure size 432x288 with 1 Axes>"
      ]
     },
     "metadata": {
      "needs_background": "light"
     },
     "output_type": "display_data"
    }
   ],
   "source": [
    "\n",
    "def TD_Lambda_Expt2_Version2_Grid(lambdas_,alphas):\n",
    "  data = {}\n",
    "  for lambda_ in lambdas_:\n",
    "    line = []\n",
    "    for alpha in alphas:\n",
    "      RMS = TD_Lambda_Expt2_Version2(lambda_ = lambda_, alpha = alpha)\n",
    "      line.append([alpha,RMS])\n",
    "    data[lambda_] = line\n",
    "  return data\n",
    "\n",
    "lambdas_ = [0,0.3,0.8,1]\n",
    "alphas = [0,0.1,0.2,0.3,0.4,0.5,0.6]\n",
    "\n",
    "data = TD_Lambda_Expt2_Grid(lambdas_,alphas)\n",
    "\n",
    "for key in data.keys():\n",
    "  label = \"lambda = \" + str(key)\n",
    "  line = data[key]\n",
    "  x = [elem[0] for elem in line]\n",
    "  y = [elem[1] for elem in line]\n",
    "  plt.plot(x,y,label=label)\n",
    "plt.legend()\n",
    "plt.xlabel(\"alpha\")\n",
    "plt.ylabel(\"error\")\n",
    "plt.title(\"Average error on random walk problem (averaged over 100 training sets)\\nunder the single presentation paradigm (Experiment 2) -- Version 2\")\n",
    "plt.savefig('./project1_expt2_Version2_Figure4.png')\n",
    "plt.show()"
   ]
  }
 ],
 "metadata": {
  "colab": {
   "collapsed_sections": [
    "SZdL_AdYaUjh",
    "ClrBeSsue7iK",
    "reGZG5fCgvUF",
    "s8K4DNfw8F9Q",
    "97lkTv4V8IZE"
   ],
   "name": "TD_learning.ipynb",
   "provenance": []
  },
  "kernelspec": {
   "display_name": "Python 3 (ipykernel)",
   "language": "python",
   "name": "python3"
  },
  "language_info": {
   "codemirror_mode": {
    "name": "ipython",
    "version": 3
   },
   "file_extension": ".py",
   "mimetype": "text/x-python",
   "name": "python",
   "nbconvert_exporter": "python",
   "pygments_lexer": "ipython3",
   "version": "3.9.6"
  }
 },
 "nbformat": 4,
 "nbformat_minor": 1
}
